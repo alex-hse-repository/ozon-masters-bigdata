{
 "cells": [
  {
   "cell_type": "code",
   "execution_count": 2,
   "id": "noble-hepatitis",
   "metadata": {},
   "outputs": [],
   "source": [
    "import os\n",
    "import sys\n",
    "\n",
    "SPARK_HOME = \"/usr/hdp/current/spark2-client\"\n",
    "PYSPARK_PYTHON = \"/opt/conda/envs/dsenv/bin/python\"\n",
    "os.environ[\"PYSPARK_PYTHON\"]= PYSPARK_PYTHON\n",
    "os.environ[\"SPARK_HOME\"] = SPARK_HOME\n",
    "\n",
    "PYSPARK_HOME = os.path.join(SPARK_HOME, \"python/lib\")\n",
    "sys.path.insert(0, os.path.join(PYSPARK_HOME, \"py4j-0.10.7-src.zip\"))\n",
    "sys.path.insert(0, os.path.join(PYSPARK_HOME, \"pyspark.zip\"))"
   ]
  },
  {
   "cell_type": "code",
   "execution_count": 3,
   "id": "distant-mother",
   "metadata": {},
   "outputs": [],
   "source": [
    "import sys\n",
    "from pyspark.sql.types import *\n",
    "from pyspark.sql import SparkSession\n",
    "from pyspark.ml.feature import *\n",
    "from pyspark.ml import Estimator, Transformer\n",
    "from pyspark.ml import Pipeline    "
   ]
  },
  {
   "cell_type": "code",
   "execution_count": 5,
   "id": "covered-source",
   "metadata": {},
   "outputs": [],
   "source": [
    "spark = SparkSession.builder.getOrCreate()\n",
    "spark.sparkContext.setLogLevel('WARN')"
   ]
  },
  {
   "cell_type": "code",
   "execution_count": 6,
   "id": "narrative-track",
   "metadata": {},
   "outputs": [],
   "source": [
    "raw_data_path = '/datasets/amazon/all_reviews_5_core_train_extra_small_sentiment.json'\n",
    "processed_data_path = 'HW5/processed.parquet'"
   ]
  },
  {
   "cell_type": "code",
   "execution_count": 7,
   "id": "continuing-fight",
   "metadata": {},
   "outputs": [],
   "source": [
    "schema = StructType([\n",
    "        StructField(\"asin\", StringType()),\n",
    "        StructField(\"id\", LongType()),\n",
    "        StructField(\"label\", IntegerType()),\n",
    "        StructField(\"reviewText\", StringType()),\n",
    "        StructField(\"reviewTime\", DateType()),\n",
    "        StructField(\"reviewerID\", StringType()),\n",
    "        StructField(\"reviewerName\", StringType()),\n",
    "        StructField(\"vote\", IntegerType()),\n",
    "        StructField(\"summary\", StringType()),\n",
    "        StructField(\"unixReviewTime\", TimestampType()),\n",
    "        StructField(\"verified\", BooleanType())\n",
    "    ])\n",
    "\n",
    "dataset = spark.read.json(raw_data_path, schema=schema,dateFormat='MM dd, yyyy').cache()"
   ]
  },
  {
   "cell_type": "code",
   "execution_count": 8,
   "id": "figured-alarm",
   "metadata": {},
   "outputs": [
    {
     "name": "stdout",
     "output_type": "stream",
     "text": [
      "-RECORD 0------------------------------\n",
      " asin           | B000VX4W78           \n",
      " id             | 72900                \n",
      " label          | 1                    \n",
      " reviewText     | Purchased these f... \n",
      " reviewTime     | 2009-11-30           \n",
      " reviewerID     | A3BH3XJBBU7FF2       \n",
      " reviewerName   | The Dragon           \n",
      " vote           | null                 \n",
      " summary        | Works great, nice... \n",
      " unixReviewTime | 2009-11-30 00:00:00  \n",
      " verified       | true                 \n",
      "-RECORD 1------------------------------\n",
      " asin           | B0017U1KBK           \n",
      " id             | 104280               \n",
      " label          | 1                    \n",
      " reviewText     | This thing is too... \n",
      " reviewTime     | 2017-01-04           \n",
      " reviewerID     | A408FUV9TO4EA        \n",
      " reviewerName   | Amber                \n",
      " vote           | null                 \n",
      " summary        | Five Stars           \n",
      " unixReviewTime | 2017-01-04 00:00:00  \n",
      " verified       | true                 \n",
      "only showing top 2 rows\n",
      "\n"
     ]
    }
   ],
   "source": [
    "dataset.show(2, vertical=True)"
   ]
  },
  {
   "cell_type": "code",
   "execution_count": 9,
   "id": "demonstrated-beijing",
   "metadata": {},
   "outputs": [],
   "source": [
    "droper = SQLTransformer(statement=\"SELECT * FROM __THIS__ WHERE reviewText is not null\")\n",
    "tokenizer = Tokenizer(inputCol=\"reviewText\", outputCol=\"words\")\n",
    "hasher = HashingTF(numFeatures=100, binary=True, inputCol=tokenizer.getOutputCol(), outputCol=\"word_vector\")\n",
    "pipeline = Pipeline(stages=[\n",
    "        droper,\n",
    "        tokenizer,\n",
    "        hasher        \n",
    "    ])\n",
    "processed_dataset = pipeline.fit(dataset).transform(dataset)"
   ]
  },
  {
   "cell_type": "code",
   "execution_count": 16,
   "id": "curious-monitor",
   "metadata": {},
   "outputs": [
    {
     "name": "stdout",
     "output_type": "stream",
     "text": [
      "-RECORD 0------------------------------\n",
      " asin           | B000VX4W78           \n",
      " id             | 72900                \n",
      " label          | 1                    \n",
      " reviewText     | Purchased these f... \n",
      " reviewTime     | 2009-11-30           \n",
      " reviewerID     | A3BH3XJBBU7FF2       \n",
      " reviewerName   | The Dragon           \n",
      " vote           | null                 \n",
      " summary        | Works great, nice... \n",
      " unixReviewTime | 2009-11-30 00:00:00  \n",
      " verified       | true                 \n",
      " words          | [purchased, these... \n",
      " word_vector    | (100,[2,3,4,10,11... \n",
      "-RECORD 1------------------------------\n",
      " asin           | B0017U1KBK           \n",
      " id             | 104280               \n",
      " label          | 1                    \n",
      " reviewText     | This thing is too... \n",
      " reviewTime     | 2017-01-04           \n",
      " reviewerID     | A408FUV9TO4EA        \n",
      " reviewerName   | Amber                \n",
      " vote           | null                 \n",
      " summary        | Five Stars           \n",
      " unixReviewTime | 2017-01-04 00:00:00  \n",
      " verified       | true                 \n",
      " words          | [this, thing, is,... \n",
      " word_vector    | (100,[16,34,44,46... \n",
      "only showing top 2 rows\n",
      "\n"
     ]
    }
   ],
   "source": [
    "processed_dataset.show(2, vertical=True)"
   ]
  },
  {
   "cell_type": "code",
   "execution_count": 17,
   "id": "imported-vegetable",
   "metadata": {},
   "outputs": [],
   "source": [
    "processed_dataset.write.parquet(processed_data_path)     "
   ]
  },
  {
   "cell_type": "code",
   "execution_count": 19,
   "id": "based-chase",
   "metadata": {},
   "outputs": [],
   "source": [
    "processed_data_path = 'HW5/processed_test.parquet'\n",
    "processed_dataset[['id','label']].write.parquet(processed_data_path)"
   ]
  },
  {
   "cell_type": "code",
   "execution_count": null,
   "id": "devoted-fleet",
   "metadata": {},
   "outputs": [],
   "source": [
    "spark.stop()"
   ]
  }
 ],
 "metadata": {
  "kernelspec": {
   "display_name": "dsenv",
   "language": "python",
   "name": "dsenv"
  },
  "language_info": {
   "codemirror_mode": {
    "name": "ipython",
    "version": 3
   },
   "file_extension": ".py",
   "mimetype": "text/x-python",
   "name": "python",
   "nbconvert_exporter": "python",
   "pygments_lexer": "ipython3",
   "version": "3.7.9"
  }
 },
 "nbformat": 4,
 "nbformat_minor": 5
}
