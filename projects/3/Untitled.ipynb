{
 "cells": [
  {
   "cell_type": "code",
   "execution_count": 3,
   "id": "executive-courtesy",
   "metadata": {},
   "outputs": [],
   "source": [
    "import os\n",
    "import sys\n",
    "\n",
    "SPARK_HOME = \"/usr/hdp/current/spark2-client\"\n",
    "PYSPARK_PYTHON = \"/opt/conda/envs/dsenv/bin/python\"\n",
    "os.environ[\"PYSPARK_PYTHON\"]= PYSPARK_PYTHON\n",
    "os.environ[\"SPARK_HOME\"] = SPARK_HOME\n",
    "\n",
    "PYSPARK_HOME = os.path.join(SPARK_HOME, \"python/lib\")\n",
    "sys.path.insert(0, os.path.join(PYSPARK_HOME, \"py4j-0.10.7-src.zip\"))\n",
    "sys.path.insert(0, os.path.join(PYSPARK_HOME, \"pyspark.zip\"))"
   ]
  },
  {
   "cell_type": "code",
   "execution_count": 4,
   "id": "searching-lingerie",
   "metadata": {},
   "outputs": [
    {
     "name": "stdout",
     "output_type": "stream",
     "text": [
      "Spark UI port: 10314\n"
     ]
    }
   ],
   "source": [
    "import random\n",
    "from pyspark import SparkContext, SparkConf\n",
    "\n",
    "spark_ui_port = random.choice(range(10000, 11000))\n",
    "print(f\"Spark UI port: {spark_ui_port}\")\n",
    "\n",
    "conf = SparkConf()\n",
    "conf.set(\"spark.ui.port\", spark_ui_port)\n",
    "\n",
    "sc = SparkContext(appName=\"BFS\", conf=conf)"
   ]
  },
  {
   "cell_type": "code",
   "execution_count": 22,
   "id": "governmental-wyoming",
   "metadata": {},
   "outputs": [],
   "source": [
    "rdd = sc.textFile('/datasets/twitter/twitter_sample_small.tsv')"
   ]
  },
  {
   "cell_type": "code",
   "execution_count": 198,
   "id": "junior-browse",
   "metadata": {},
   "outputs": [],
   "source": [
    "graph = rdd.map(lambda x : x.split('\\t')[::-1]).cache()\n",
    "links = graph.groupByKey().mapValues(list).cache()\n",
    "v = links.count()"
   ]
  },
  {
   "cell_type": "code",
   "execution_count": 282,
   "id": "stunning-prompt",
   "metadata": {},
   "outputs": [],
   "source": [
    "sourse = '12'\n",
    "target = '34'\n"
   ]
  },
  {
   "cell_type": "code",
   "execution_count": 283,
   "id": "informational-strain",
   "metadata": {},
   "outputs": [],
   "source": [
    "def add_node(node):\n",
    "    if(node[0]==sourse):\n",
    "        return (node[0],(node[1],0,[],'entered'))\n",
    "    return (node[0],(node[1],2*v,[],'not entered'))"
   ]
  },
  {
   "cell_type": "code",
   "execution_count": 284,
   "id": "asian-environment",
   "metadata": {},
   "outputs": [],
   "source": [
    "matrix = links.map(add_node)"
   ]
  },
  {
   "cell_type": "code",
   "execution_count": 285,
   "id": "fatty-forest",
   "metadata": {},
   "outputs": [
    {
     "data": {
      "text/plain": [
       "[('2241', (['12'], 107946, [], 'not entered')),\n",
       " ('13349', (['12'], 107946, [], 'not entered')),\n",
       " ('82473', (['12'], 107946, [], 'not entered')),\n",
       " ('414853', (['12', '633'], 107946, [], 'not entered')),\n",
       " ('755452', (['12', '456'], 107946, [], 'not entered'))]"
      ]
     },
     "execution_count": 285,
     "metadata": {},
     "output_type": "execute_result"
    }
   ],
   "source": [
    "matrix.take(5)"
   ]
  },
  {
   "cell_type": "code",
   "execution_count": 286,
   "id": "decimal-field",
   "metadata": {},
   "outputs": [],
   "source": [
    "queue = matrix.filter(lambda x: x[1][3]=='entered')"
   ]
  },
  {
   "cell_type": "code",
   "execution_count": 287,
   "id": "southwest-youth",
   "metadata": {},
   "outputs": [],
   "source": [
    "def step(node):\n",
    "    status = node[1][3]\n",
    "    if(status=='entered'):\n",
    "        v = node[0]\n",
    "        neigh = node[1][0]\n",
    "        dist = node[1][1]\n",
    "        for u in neigh:\n",
    "            udist = dist+1\n",
    "            uparent = v\n",
    "            ustatus = 'entered'\n",
    "            entry = (u,([],udist,[uparent],ustatus))\n",
    "            yield entry\n",
    "        entry = (node[0],(node[1][0],node[1][1],[],'ready'))\n",
    "        yield entry\n",
    "    yield node"
   ]
  },
  {
   "cell_type": "code",
   "execution_count": 288,
   "id": "concerned-sunglasses",
   "metadata": {},
   "outputs": [],
   "source": [
    "def update(version1,version2):\n",
    "    neigh = version1[0]\n",
    "    if(len(version2[0])>len(neigh)):\n",
    "        neigh = version2[0]\n",
    "    \n",
    "    dist = min(version1[1],version2[1])\n",
    "   \n",
    "    parents = []\n",
    "    if(version1[1]==dist):\n",
    "        parents.extend(version1[2])\n",
    "    if(version2[1]==dist):\n",
    "        parents.extend(version2[2])\n",
    "    \n",
    "    mapping = {'not entered':0,'entered':1,'ready':2}\n",
    "    inverse_mapping = {0:'not entered',1:'entered',2:'ready'}\n",
    "    status = inverse_mapping[max(mapping[version1[3]],mapping[version2[3]])]\n",
    "       \n",
    "    return (neigh,dist,parents,status)\n",
    "        "
   ]
  },
  {
   "cell_type": "code",
   "execution_count": 289,
   "id": "aware-rebound",
   "metadata": {},
   "outputs": [],
   "source": [
    "n_iters = 0\n",
    "while(not queue.isEmpty() and n_iters!=20):\n",
    "    matrix = matrix.flatMap(step)\n",
    "    matrix = matrix.reduceByKey(update)\n",
    "    queue = matrix.filter(lambda x: x[1][3]=='entered')\n",
    "    n_iters+=1"
   ]
  },
  {
   "cell_type": "code",
   "execution_count": 290,
   "id": "amber-pharmacy",
   "metadata": {},
   "outputs": [
    {
     "data": {
      "text/plain": [
       "9"
      ]
     },
     "execution_count": 290,
     "metadata": {},
     "output_type": "execute_result"
    }
   ],
   "source": [
    "n_iters"
   ]
  },
  {
   "cell_type": "code",
   "execution_count": 292,
   "id": "detailed-tribe",
   "metadata": {},
   "outputs": [
    {
     "data": {
      "text/plain": [
       "[('34', ([], 8, ['274'], 'ready'))]"
      ]
     },
     "execution_count": 292,
     "metadata": {},
     "output_type": "execute_result"
    }
   ],
   "source": [
    "matrix.filter(lambda x: x[0]==target).collect()"
   ]
  },
  {
   "cell_type": "code",
   "execution_count": null,
   "id": "employed-private",
   "metadata": {},
   "outputs": [],
   "source": []
  }
 ],
 "metadata": {
  "kernelspec": {
   "display_name": "dsenv",
   "language": "python",
   "name": "dsenv"
  },
  "language_info": {
   "codemirror_mode": {
    "name": "ipython",
    "version": 3
   },
   "file_extension": ".py",
   "mimetype": "text/x-python",
   "name": "python",
   "nbconvert_exporter": "python",
   "pygments_lexer": "ipython3",
   "version": "3.7.9"
  }
 },
 "nbformat": 4,
 "nbformat_minor": 5
}
