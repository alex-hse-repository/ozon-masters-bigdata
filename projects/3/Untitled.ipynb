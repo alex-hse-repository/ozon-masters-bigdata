{
 "cells": [
  {
   "cell_type": "code",
   "execution_count": 1,
   "id": "executive-courtesy",
   "metadata": {},
   "outputs": [],
   "source": [
    "import os\n",
    "import sys\n",
    "\n",
    "SPARK_HOME = \"/usr/hdp/current/spark2-client\"\n",
    "PYSPARK_PYTHON = \"/opt/conda/envs/dsenv/bin/python\"\n",
    "os.environ[\"PYSPARK_PYTHON\"]= PYSPARK_PYTHON\n",
    "os.environ[\"SPARK_HOME\"] = SPARK_HOME\n",
    "\n",
    "PYSPARK_HOME = os.path.join(SPARK_HOME, \"python/lib\")\n",
    "sys.path.insert(0, os.path.join(PYSPARK_HOME, \"py4j-0.10.7-src.zip\"))\n",
    "sys.path.insert(0, os.path.join(PYSPARK_HOME, \"pyspark.zip\"))"
   ]
  },
  {
   "cell_type": "code",
   "execution_count": 2,
   "id": "searching-lingerie",
   "metadata": {},
   "outputs": [
    {
     "name": "stdout",
     "output_type": "stream",
     "text": [
      "Spark UI port: 10772\n"
     ]
    }
   ],
   "source": [
    "import random\n",
    "from pyspark import SparkContext, SparkConf\n",
    "\n",
    "spark_ui_port = random.choice(range(10000, 11000))\n",
    "print(f\"Spark UI port: {spark_ui_port}\")\n",
    "\n",
    "conf = SparkConf()\n",
    "conf.set(\"spark.ui.port\", spark_ui_port)\n",
    "\n",
    "sc = SparkContext(appName=\"BFS\", conf=conf)"
   ]
  },
  {
   "cell_type": "code",
   "execution_count": null,
   "id": "suited-honey",
   "metadata": {},
   "outputs": [],
   "source": [
    "sourse = sys.argv[1]\n",
    "target = sys.argv[2]\n",
    "dataset_path = sys.argv[3]\n",
    "answers_path = sys.argv[4]"
   ]
  },
  {
   "cell_type": "code",
   "execution_count": 97,
   "id": "governmental-wyoming",
   "metadata": {},
   "outputs": [],
   "source": [
    "rdd = sc.textFile(dataset_path)"
   ]
  },
  {
   "cell_type": "code",
   "execution_count": 98,
   "id": "junior-browse",
   "metadata": {},
   "outputs": [],
   "source": [
    "graph = rdd.map(lambda x : x.split('\\t')[::-1]).cache()\n",
    "links = graph.groupByKey().mapValues(list).cache()\n",
    "v = links.count()"
   ]
  },
  {
   "cell_type": "code",
   "execution_count": 100,
   "id": "informational-strain",
   "metadata": {},
   "outputs": [],
   "source": [
    "def add_node(node):\n",
    "    if(node[0]==sourse):\n",
    "        return (node[0],(node[1],0,[[node[0]]],'entered'))\n",
    "    return (node[0],(node[1],2*v,[],'not entered'))"
   ]
  },
  {
   "cell_type": "code",
   "execution_count": 101,
   "id": "asian-environment",
   "metadata": {},
   "outputs": [],
   "source": [
    "matrix = links.map(add_node)"
   ]
  },
  {
   "cell_type": "code",
   "execution_count": 103,
   "id": "southwest-youth",
   "metadata": {},
   "outputs": [],
   "source": [
    "def step(node):\n",
    "    status = node[1][3]\n",
    "    if(status=='entered'):\n",
    "        v = node[0]\n",
    "        neigh = node[1][0]\n",
    "        dist = node[1][1]\n",
    "        paths = node[1][2]\n",
    "        if(v!=target):\n",
    "            for u in neigh:\n",
    "                udist = dist+1\n",
    "                upaths = [path+[u] for path in paths]\n",
    "                ustatus = 'entered'\n",
    "                entry = (u,([],udist,upaths,ustatus))\n",
    "                yield entry\n",
    "        else:\n",
    "            finish = True\n",
    "        entry = (v,(neigh,dist,paths,'ready'))\n",
    "        yield entry\n",
    "    yield node"
   ]
  },
  {
   "cell_type": "code",
   "execution_count": 104,
   "id": "concerned-sunglasses",
   "metadata": {},
   "outputs": [],
   "source": [
    "def update(version1,version2):\n",
    "    neigh = version1[0]\n",
    "    if(len(version2[0])>len(neigh)):\n",
    "        neigh = version2[0]\n",
    "    \n",
    "    dist = min(version1[1],version2[1])\n",
    "    \n",
    "    mapping = {'not entered':0,'entered':1,'ready':2}\n",
    "    inverse_mapping = {0:'not entered',1:'entered',2:'ready'}\n",
    "    status = inverse_mapping[max(mapping[version1[3]],mapping[version2[3]])]   \n",
    "\n",
    "    paths = []\n",
    "    if(version1[3]==status and version1[1]==dist):\n",
    "        paths.extend(version1[2])\n",
    "    if(version2[3]==status and version2[1]==dist):\n",
    "        paths.extend(version2[2])\n",
    "         \n",
    "    return (neigh,dist,paths,status)\n",
    "        "
   ]
  },
  {
   "cell_type": "code",
   "execution_count": 105,
   "id": "aware-rebound",
   "metadata": {},
   "outputs": [
    {
     "name": "stdout",
     "output_type": "stream",
     "text": [
      "n_iter =  1\n",
      "n_iter =  2\n",
      "n_iter =  3\n",
      "n_iter =  4\n",
      "n_iter =  5\n",
      "n_iter =  6\n",
      "n_iter =  7\n"
     ]
    }
   ],
   "source": [
    "n_iters = 0\n",
    "finish = False \n",
    "queue = matrix.filter(lambda x: x[1][3]=='entered')\n",
    "while((not finish) and (not queue.isEmpty())):\n",
    "    matrix = matrix.flatMap(step)\n",
    "    matrix = matrix.reduceByKey(update)\n",
    "    queue = matrix.filter(lambda x: x[1][3]=='entered')\n",
    "    n_iters+=1\n",
    "    print('n_iter = ',n_iters)"
   ]
  },
  {
   "cell_type": "code",
   "execution_count": 106,
   "id": "amber-pharmacy",
   "metadata": {},
   "outputs": [
    {
     "data": {
      "text/plain": [
       "7"
      ]
     },
     "execution_count": 106,
     "metadata": {},
     "output_type": "execute_result"
    }
   ],
   "source": [
    "n_iters"
   ]
  },
  {
   "cell_type": "code",
   "execution_count": 108,
   "id": "detailed-tribe",
   "metadata": {},
   "outputs": [],
   "source": [
    "ans = matrix.filter(lambda x: x[0]==target).collect()[0][1][2]"
   ]
  },
  {
   "cell_type": "code",
   "execution_count": 109,
   "id": "prime-directive",
   "metadata": {},
   "outputs": [
    {
     "data": {
      "text/plain": [
       "[['12', '14', '34'],\n",
       " ['12', '21', '34'],\n",
       " ['12', '23', '34'],\n",
       " ['12', '295', '34'],\n",
       " ['12', '322', '34']]"
      ]
     },
     "execution_count": 109,
     "metadata": {},
     "output_type": "execute_result"
    }
   ],
   "source": [
    "ans"
   ]
  },
  {
   "cell_type": "code",
   "execution_count": 110,
   "id": "removable-steel",
   "metadata": {},
   "outputs": [
    {
     "data": {
      "text/plain": [
       "list"
      ]
     },
     "execution_count": 110,
     "metadata": {},
     "output_type": "execute_result"
    }
   ],
   "source": [
    "type(ans)"
   ]
  },
  {
   "cell_type": "code",
   "execution_count": 111,
   "id": "sunrise-worthy",
   "metadata": {},
   "outputs": [],
   "source": [
    "import csv\n",
    "answers_path = 'ans.csv'\n",
    "with open(answers_path, \"w\", newline=\"\") as f:\n",
    "    writer = csv.writer(f)\n",
    "    writer.writerows(ans)"
   ]
  },
  {
   "cell_type": "code",
   "execution_count": null,
   "id": "local-prison",
   "metadata": {},
   "outputs": [],
   "source": []
  }
 ],
 "metadata": {
  "kernelspec": {
   "display_name": "dsenv",
   "language": "python",
   "name": "dsenv"
  },
  "language_info": {
   "codemirror_mode": {
    "name": "ipython",
    "version": 3
   },
   "file_extension": ".py",
   "mimetype": "text/x-python",
   "name": "python",
   "nbconvert_exporter": "python",
   "pygments_lexer": "ipython3",
   "version": "3.7.9"
  }
 },
 "nbformat": 4,
 "nbformat_minor": 5
}
